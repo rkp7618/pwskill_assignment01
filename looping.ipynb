{
 "cells": [
  {
   "cell_type": "code",
   "execution_count": 3,
   "id": "9b047827-f4f6-48a3-9e01-2fbf26025a08",
   "metadata": {},
   "outputs": [
    {
     "name": "stdout",
     "output_type": "stream",
     "text": [
      "11 21 57 53 15 64 99 "
     ]
    }
   ],
   "source": [
    "l1=[10,20,56,52,14,63,98]\n",
    "for i in l1:\n",
    "    print(i+1,end=' ')"
   ]
  },
  {
   "cell_type": "code",
   "execution_count": 5,
   "id": "f8df819a-43e8-40f7-9f02-6111a98103b1",
   "metadata": {},
   "outputs": [
    {
     "data": {
      "text/plain": [
       "[1, 2, 3, 4, 5, 6, 7, 8, 9, 10]"
      ]
     },
     "execution_count": 5,
     "metadata": {},
     "output_type": "execute_result"
    }
   ],
   "source": [
    "l2=[]\n",
    "for i in range(10):\n",
    "    l2.append(i+1)\n",
    "l2\n"
   ]
  },
  {
   "cell_type": "code",
   "execution_count": 10,
   "id": "a25b3cc2-5d37-4e15-b5f7-aad905bad9a3",
   "metadata": {},
   "outputs": [
    {
     "data": {
      "text/plain": [
       "['RAHUL', 'KUMAR', 'PANDEY', 'ROHAN', 'MUSKAN']"
      ]
     },
     "execution_count": 10,
     "metadata": {},
     "output_type": "execute_result"
    }
   ],
   "source": [
    "l2=['rahul','kumar','pandey','rohan','muskan']\n",
    "l1=[]\n",
    "for i in l2:\n",
    "    l1.append(i.upper())\n",
    "l1\n",
    "    "
   ]
  },
  {
   "cell_type": "code",
   "execution_count": 12,
   "id": "57b39899-d4d5-4b93-93bc-8ec9ed5da8cd",
   "metadata": {},
   "outputs": [
    {
     "data": {
      "text/plain": [
       "['Muskan', 'Singh', 'Babita']"
      ]
     },
     "execution_count": 12,
     "metadata": {},
     "output_type": "execute_result"
    }
   ],
   "source": [
    "l=[25,36,89,'Muskan','Singh','Babita',85,74,15]\n",
    "l_num=[]\n",
    "l_str=[]\n",
    "for i in l:\n",
    "    if type(i)==int or type(i)==float:\n",
    "        l_num.append(i)\n",
    "    else:\n",
    "        l_str.append(i)\n",
    "l_str"
   ]
  },
  {
   "cell_type": "code",
   "execution_count": 13,
   "id": "c0cf8bb7-b1ee-484e-bbbe-85622072e3e5",
   "metadata": {},
   "outputs": [
    {
     "data": {
      "text/plain": [
       "[25, 36, 89, 85, 74, 15]"
      ]
     },
     "execution_count": 13,
     "metadata": {},
     "output_type": "execute_result"
    }
   ],
   "source": [
    "l_num"
   ]
  }
 ],
 "metadata": {
  "kernelspec": {
   "display_name": "Python 3 (ipykernel)",
   "language": "python",
   "name": "python3"
  },
  "language_info": {
   "codemirror_mode": {
    "name": "ipython",
    "version": 3
   },
   "file_extension": ".py",
   "mimetype": "text/x-python",
   "name": "python",
   "nbconvert_exporter": "python",
   "pygments_lexer": "ipython3",
   "version": "3.10.8"
  }
 },
 "nbformat": 4,
 "nbformat_minor": 5
}
